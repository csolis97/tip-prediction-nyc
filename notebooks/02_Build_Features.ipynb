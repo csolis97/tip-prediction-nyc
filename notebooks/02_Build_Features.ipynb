{
 "cells": [
  {
   "cell_type": "code",
   "execution_count": 4,
   "id": "6d81e03f",
   "metadata": {},
   "outputs": [],
   "source": [
    "import sys\n",
    "import os\n",
    "import pandas as pd\n",
    "# Ruta absoluta a la carpeta src\n",
    "src_path = os.path.abspath(os.path.join(os.getcwd(), '..', 'src'))\n",
    "if src_path not in sys.path:\n",
    "    sys.path.append(src_path)\n",
    "\n",
    "# Importar tu función\n",
    "from Build_Features import build_features\n"
   ]
  },
  {
   "cell_type": "code",
   "execution_count": 8,
   "id": "b1704277",
   "metadata": {},
   "outputs": [
    {
     "name": "stdout",
     "output_type": "stream",
     "text": [
      "Features:\n",
      "    pickup_weekday  pickup_hour  work_hours  pickup_minute  passenger_count  \\\n",
      "0               2            0           0             28              1.0   \n",
      "1               2            0           0             35              1.0   \n",
      "2               2            0           0             47              1.0   \n",
      "3               2            0           0             55              1.0   \n",
      "4               2            0           0             39              1.0   \n",
      "\n",
      "   trip_distance  trip_time  trip_speed  PULocationID  DOLocationID  \\\n",
      "0            1.2   4.800000    0.250000           238           239   \n",
      "1            1.2   7.416667    0.161798           239           238   \n",
      "2            0.6   6.183333    0.097035           238           238   \n",
      "3            0.8   4.850000    0.164948           238           151   \n",
      "4            0.0   0.066667    0.000000           193           193   \n",
      "\n",
      "   RatecodeID  \n",
      "0         1.0  \n",
      "1         1.0  \n",
      "2         1.0  \n",
      "3         1.0  \n",
      "4         1.0  \n",
      "Target:\n",
      " 0    1\n",
      "1    1\n",
      "2    0\n",
      "3    1\n",
      "4    0\n",
      "Name: target, dtype: int64\n"
     ]
    }
   ],
   "source": [
    "# Ruta al archivo parquet procesado\n",
    "processed_path = os.path.abspath(os.path.join(os.getcwd(), '..', 'data', 'processed', 'yellow_tripdata_2020-01.parquet'))\n",
    "# Cargar datos\n",
    "df = pd.read_parquet(processed_path)\n",
    "\n",
    "# Ejecuta la función para generar features\n",
    "X, y = build_features(df)\n",
    "# Mostrar resultados\n",
    "print(\"Features:\\n\", X.head())\n",
    "print(\"Target:\\n\", y.head())\n"
   ]
  }
 ],
 "metadata": {
  "kernelspec": {
   "display_name": ".venv",
   "language": "python",
   "name": "python3"
  },
  "language_info": {
   "codemirror_mode": {
    "name": "ipython",
    "version": 3
   },
   "file_extension": ".py",
   "mimetype": "text/x-python",
   "name": "python",
   "nbconvert_exporter": "python",
   "pygments_lexer": "ipython3",
   "version": "3.11.9"
  }
 },
 "nbformat": 4,
 "nbformat_minor": 5
}
